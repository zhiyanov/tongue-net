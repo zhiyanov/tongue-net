{
 "cells": [
  {
   "cell_type": "code",
   "execution_count": 2,
   "id": "bdd7d4b6-17bf-4392-8ab6-222877e49196",
   "metadata": {},
   "outputs": [],
   "source": [
    "import pandas as pd\n",
    "import numpy as np\n",
    "\n",
    "import tqdm\n",
    "import os\n",
    "\n",
    "from pathlib import Path\n",
    "from Levenshtein import distance"
   ]
  },
  {
   "cell_type": "code",
   "execution_count": 3,
   "id": "54c5c9d8-eff6-4f75-b340-04f10ee08c7d",
   "metadata": {},
   "outputs": [],
   "source": [
    "import cv2\n",
    "import os\n",
    "import tqdm\n",
    "\n",
    "import pandas as pd\n",
    "import numpy as np\n",
    "\n",
    "import seaborn as sns\n",
    "import matplotlib.pyplot as plt"
   ]
  },
  {
   "cell_type": "code",
   "execution_count": 4,
   "id": "b3d19f94-58da-4ca3-8cd6-08e747a0898a",
   "metadata": {},
   "outputs": [],
   "source": [
    "import torch\n",
    "\n",
    "from torchvision import transforms as tr\n",
    "from torch.utils.data import Dataset, DataLoader\n",
    "from torchvision.transforms.functional import center_crop, to_pil_image\n",
    "\n",
    "from torchvision import models\n",
    "from torch import nn\n",
    "\n",
    "from einops import rearrange\n",
    "\n",
    "from torchcam.methods import SmoothGradCAMpp\n",
    "from torchcam.utils import overlay_mask"
   ]
  },
  {
   "cell_type": "code",
   "execution_count": 5,
   "id": "a3a5489d-4de5-49d2-aa73-9db73e6c9788",
   "metadata": {},
   "outputs": [],
   "source": [
    "import warnings\n",
    "warnings.filterwarnings('ignore')"
   ]
  },
  {
   "cell_type": "code",
   "execution_count": 6,
   "id": "15171dc5-b0cc-4cb4-b371-b999dfbfd973",
   "metadata": {},
   "outputs": [],
   "source": [
    "PICTURES_DIR = \"/home/dude/tongue-net/data/pictures\"\n",
    "MASKS_DIR = \"/home/dude/tongue-net/data/masks\"\n",
    "CHECK_DIR = \"/home/dude/tongue-net/data/check\""
   ]
  },
  {
   "cell_type": "code",
   "execution_count": 7,
   "id": "8a760e0f-5c97-4998-b880-078960c8faee",
   "metadata": {},
   "outputs": [],
   "source": [
    "def walk(path: str):\n",
    "    start = None\n",
    "    result = []\n",
    "    for root, _, files in os.walk(path):\n",
    "        if start is None:\n",
    "            start = root\n",
    "            \n",
    "        for file in files:\n",
    "            if file.lower().endswith((\"png\", \"jpg\", \"jpeg\", \"bmp\", \"heic\")):\n",
    "                result.append((root.lstrip(start), file))\n",
    "\n",
    "    return result"
   ]
  },
  {
   "cell_type": "code",
   "execution_count": 8,
   "id": "48777d9f-3ea3-4091-85bf-10e3ebb47a9f",
   "metadata": {},
   "outputs": [],
   "source": [
    "pictures_df = pd.DataFrame(data=walk(PICTURES_DIR),\n",
    "                           columns=[\"Root\", \"Name\"])\n",
    "masks_df = pd.DataFrame(data=walk(MASKS_DIR),\n",
    "                           columns=[\"Root\", \"Name\"])"
   ]
  },
  {
   "cell_type": "code",
   "execution_count": 9,
   "id": "fb8f489d-5998-4c5f-a638-79810c4d0ad6",
   "metadata": {},
   "outputs": [
    {
     "data": {
      "text/html": [
       "<div>\n",
       "<style scoped>\n",
       "    .dataframe tbody tr th:only-of-type {\n",
       "        vertical-align: middle;\n",
       "    }\n",
       "\n",
       "    .dataframe tbody tr th {\n",
       "        vertical-align: top;\n",
       "    }\n",
       "\n",
       "    .dataframe thead th {\n",
       "        text-align: right;\n",
       "    }\n",
       "</style>\n",
       "<table border=\"1\" class=\"dataframe\">\n",
       "  <thead>\n",
       "    <tr style=\"text-align: right;\">\n",
       "      <th></th>\n",
       "      <th>Root</th>\n",
       "      <th>Name</th>\n",
       "    </tr>\n",
       "  </thead>\n",
       "  <tbody>\n",
       "    <tr>\n",
       "      <th>0</th>\n",
       "      <td>Доброкачественные новообразования языка</td>\n",
       "      <td>2_фиброма 6 пациент.jpg</td>\n",
       "    </tr>\n",
       "    <tr>\n",
       "      <th>1</th>\n",
       "      <td>Доброкачественные новообразования языка</td>\n",
       "      <td>2_Ретенционная киста корня языка.JPG</td>\n",
       "    </tr>\n",
       "    <tr>\n",
       "      <th>2</th>\n",
       "      <td>Доброкачественные новообразования языка</td>\n",
       "      <td>2_лимфангиома 2 пациент 2 фото.jpg</td>\n",
       "    </tr>\n",
       "    <tr>\n",
       "      <th>3</th>\n",
       "      <td>Доброкачественные новообразования языка</td>\n",
       "      <td>2_пиогенная гранулема.JPG</td>\n",
       "    </tr>\n",
       "    <tr>\n",
       "      <th>4</th>\n",
       "      <td>Доброкачественные новообразования языка</td>\n",
       "      <td>2_венозная мальформация.JPG</td>\n",
       "    </tr>\n",
       "  </tbody>\n",
       "</table>\n",
       "</div>"
      ],
      "text/plain": [
       "                                      Root  \\\n",
       "0  Доброкачественные новообразования языка   \n",
       "1  Доброкачественные новообразования языка   \n",
       "2  Доброкачественные новообразования языка   \n",
       "3  Доброкачественные новообразования языка   \n",
       "4  Доброкачественные новообразования языка   \n",
       "\n",
       "                                   Name  \n",
       "0               2_фиброма 6 пациент.jpg  \n",
       "1  2_Ретенционная киста корня языка.JPG  \n",
       "2    2_лимфангиома 2 пациент 2 фото.jpg  \n",
       "3             2_пиогенная гранулема.JPG  \n",
       "4           2_венозная мальформация.JPG  "
      ]
     },
     "execution_count": 9,
     "metadata": {},
     "output_type": "execute_result"
    }
   ],
   "source": [
    "pictures_df.head()"
   ]
  },
  {
   "cell_type": "code",
   "execution_count": 10,
   "id": "c0caeeba-bd2e-4635-82e4-59de563aa747",
   "metadata": {},
   "outputs": [
    {
     "data": {
      "text/html": [
       "<div>\n",
       "<style scoped>\n",
       "    .dataframe tbody tr th:only-of-type {\n",
       "        vertical-align: middle;\n",
       "    }\n",
       "\n",
       "    .dataframe tbody tr th {\n",
       "        vertical-align: top;\n",
       "    }\n",
       "\n",
       "    .dataframe thead th {\n",
       "        text-align: right;\n",
       "    }\n",
       "</style>\n",
       "<table border=\"1\" class=\"dataframe\">\n",
       "  <thead>\n",
       "    <tr style=\"text-align: right;\">\n",
       "      <th></th>\n",
       "      <th>Root</th>\n",
       "      <th>Name</th>\n",
       "    </tr>\n",
       "  </thead>\n",
       "  <tbody>\n",
       "    <tr>\n",
       "      <th>0</th>\n",
       "      <td>Рак языка/№18</td>\n",
       "      <td>5_2024-02-06_22-46-55_(4).jpg</td>\n",
       "    </tr>\n",
       "    <tr>\n",
       "      <th>1</th>\n",
       "      <td>Рак языка/№18</td>\n",
       "      <td>5_2024-02-06 22-46-55 (2).jpg</td>\n",
       "    </tr>\n",
       "    <tr>\n",
       "      <th>2</th>\n",
       "      <td>Рак языка/№18</td>\n",
       "      <td>5_2024-02-06 22-46-55.jpg</td>\n",
       "    </tr>\n",
       "    <tr>\n",
       "      <th>3</th>\n",
       "      <td>Рак языка/№18</td>\n",
       "      <td>5_2024-02-06 22-46-55 (5).jpg</td>\n",
       "    </tr>\n",
       "    <tr>\n",
       "      <th>4</th>\n",
       "      <td>Рак языка/№18</td>\n",
       "      <td>5_2024-02-06_22-46-55_(3).jpg</td>\n",
       "    </tr>\n",
       "  </tbody>\n",
       "</table>\n",
       "</div>"
      ],
      "text/plain": [
       "            Root                           Name\n",
       "0  Рак языка/№18  5_2024-02-06_22-46-55_(4).jpg\n",
       "1  Рак языка/№18  5_2024-02-06 22-46-55 (2).jpg\n",
       "2  Рак языка/№18      5_2024-02-06 22-46-55.jpg\n",
       "3  Рак языка/№18  5_2024-02-06 22-46-55 (5).jpg\n",
       "4  Рак языка/№18  5_2024-02-06_22-46-55_(3).jpg"
      ]
     },
     "execution_count": 10,
     "metadata": {},
     "output_type": "execute_result"
    }
   ],
   "source": [
    "masks_df.head()"
   ]
  },
  {
   "cell_type": "markdown",
   "id": "ff23e790-b5a8-4f7b-9f4c-c63852080203",
   "metadata": {},
   "source": [
    "# Image2Mask correspondence"
   ]
  },
  {
   "cell_type": "code",
   "execution_count": 11,
   "id": "2f4d5750-56f7-4e40-a9b5-81b3b097d5ad",
   "metadata": {},
   "outputs": [],
   "source": [
    "# Mask dir contains Roots from Images\n",
    "assert set(masks_df[\"Root\"]) == set(pictures_df.loc[pictures_df[\"Root\"].isin(set(masks_df[\"Root\"]))][\"Root\"])"
   ]
  },
  {
   "cell_type": "code",
   "execution_count": 12,
   "id": "eb02ce27-b524-47ad-8a24-0d8b93ba6aeb",
   "metadata": {},
   "outputs": [
    {
     "name": "stdout",
     "output_type": "stream",
     "text": [
      "                                                    Name_mask  Name_picture\n",
      "Root                                                                       \n",
      "Здоровый язык/№1                                           18             9\n",
      "Здоровый язык/№10                                          10             5\n",
      "Здоровый язык/№11                                           8             4\n",
      "Здоровый язык/№12                                           8             4\n",
      "Здоровый язык/№18                                          10             5\n",
      "Здоровый язык/№19                                           7             6\n",
      "Здоровый язык/№20                                           5             4\n",
      "Здоровый язык/№21                                           5             4\n",
      "Здоровый язык/№22                                           5             4\n",
      "Здоровый язык/№30                                          16             8\n",
      "Здоровый язык/№31                                           8             4\n",
      "Здоровый язык/№45                                          12             6\n",
      "Здоровый язык/№46                                          16             8\n",
      "Здоровый язык/№47                                          12             6\n",
      "Здоровый язык/№48                                           6             3\n",
      "Здоровый язык/№9                                           12             6\n",
      "Рак языка/ГКОБ №1. ОГШ. Без сегментации                    11            65\n",
      "Рак языка/Кафедра челюстно-лицевой и пластическ...         22            23\n",
      "Рак языка/№10                                              22            11\n",
      "Рак языка/№11                                               8             4\n",
      "Рак языка/№15                                              16             8\n",
      "Рак языка/№16                                              18             9\n",
      "Рак языка/№17                                              14             7\n",
      "Рак языка/№18                                              12             6\n",
      "Рак языка/№2                                                6             7\n",
      "Рак языка/№8                                               22            11\n"
     ]
    }
   ],
   "source": [
    "comparison_df = masks_df.groupby(\"Root\").count().join(\n",
    "    pictures_df.groupby(\"Root\").count(),\n",
    "    lsuffix=\"_mask\",\n",
    "    rsuffix=\"_picture\"\n",
    ")\n",
    "\n",
    "print(comparison_df.loc[(comparison_df[\"Name_mask\"] != comparison_df[\"Name_picture\"])])"
   ]
  },
  {
   "cell_type": "code",
   "execution_count": 13,
   "id": "35af807a-5e76-4738-aa4a-0f87ea5be689",
   "metadata": {},
   "outputs": [],
   "source": [
    "pic_names = []\n",
    "for _, mask_row in masks_df.iterrows():\n",
    "    pics = pictures_df.loc[pictures_df[\"Root\"] == mask_row[\"Root\"]]\n",
    "\n",
    "    distances = []\n",
    "    for _, pic_row in pics.iterrows():\n",
    "        distances.append(distance(\n",
    "            mask_row[\"Name\"].replace(\"mask\", \"\").replace(\" \", \"_\"),\n",
    "            pic_row[\"Name\"].replace(\" \", \"_\")))\n",
    "\n",
    "    argmin = np.argmin(distances)\n",
    "    pic_names.append(pics.iloc[argmin][\"Name\"])\n",
    "\n",
    "masks_df[\"Corresponding\"] = pic_names"
   ]
  },
  {
   "cell_type": "code",
   "execution_count": 14,
   "id": "be93148b-35ac-4651-b94e-b2432e6d87b1",
   "metadata": {},
   "outputs": [
    {
     "data": {
      "text/html": [
       "<div>\n",
       "<style scoped>\n",
       "    .dataframe tbody tr th:only-of-type {\n",
       "        vertical-align: middle;\n",
       "    }\n",
       "\n",
       "    .dataframe tbody tr th {\n",
       "        vertical-align: top;\n",
       "    }\n",
       "\n",
       "    .dataframe thead th {\n",
       "        text-align: right;\n",
       "    }\n",
       "</style>\n",
       "<table border=\"1\" class=\"dataframe\">\n",
       "  <thead>\n",
       "    <tr style=\"text-align: right;\">\n",
       "      <th></th>\n",
       "      <th>Root</th>\n",
       "      <th>Name</th>\n",
       "      <th>Corresponding</th>\n",
       "    </tr>\n",
       "  </thead>\n",
       "  <tbody>\n",
       "    <tr>\n",
       "      <th>0</th>\n",
       "      <td>Рак языка/№18</td>\n",
       "      <td>5_2024-02-06_22-46-55_(4).jpg</td>\n",
       "      <td>5_2024-02-06 22-46-55 (4).jpeg</td>\n",
       "    </tr>\n",
       "    <tr>\n",
       "      <th>1</th>\n",
       "      <td>Рак языка/№18</td>\n",
       "      <td>5_2024-02-06 22-46-55 (2).jpg</td>\n",
       "      <td>5_2024-02-06 22-46-55 (2).jpeg</td>\n",
       "    </tr>\n",
       "    <tr>\n",
       "      <th>2</th>\n",
       "      <td>Рак языка/№18</td>\n",
       "      <td>5_2024-02-06 22-46-55.jpg</td>\n",
       "      <td>5_2024-02-06 22-46-55.jpeg</td>\n",
       "    </tr>\n",
       "    <tr>\n",
       "      <th>3</th>\n",
       "      <td>Рак языка/№18</td>\n",
       "      <td>5_2024-02-06 22-46-55 (5).jpg</td>\n",
       "      <td>5_2024-02-06 22-46-55 (5).jpeg</td>\n",
       "    </tr>\n",
       "    <tr>\n",
       "      <th>4</th>\n",
       "      <td>Рак языка/№18</td>\n",
       "      <td>5_2024-02-06_22-46-55_(3).jpg</td>\n",
       "      <td>5_2024-02-06 22-46-55 (3).jpeg</td>\n",
       "    </tr>\n",
       "  </tbody>\n",
       "</table>\n",
       "</div>"
      ],
      "text/plain": [
       "            Root                           Name  \\\n",
       "0  Рак языка/№18  5_2024-02-06_22-46-55_(4).jpg   \n",
       "1  Рак языка/№18  5_2024-02-06 22-46-55 (2).jpg   \n",
       "2  Рак языка/№18      5_2024-02-06 22-46-55.jpg   \n",
       "3  Рак языка/№18  5_2024-02-06 22-46-55 (5).jpg   \n",
       "4  Рак языка/№18  5_2024-02-06_22-46-55_(3).jpg   \n",
       "\n",
       "                    Corresponding  \n",
       "0  5_2024-02-06 22-46-55 (4).jpeg  \n",
       "1  5_2024-02-06 22-46-55 (2).jpeg  \n",
       "2      5_2024-02-06 22-46-55.jpeg  \n",
       "3  5_2024-02-06 22-46-55 (5).jpeg  \n",
       "4  5_2024-02-06 22-46-55 (3).jpeg  "
      ]
     },
     "execution_count": 14,
     "metadata": {},
     "output_type": "execute_result"
    }
   ],
   "source": [
    "masks_df.head()"
   ]
  },
  {
   "cell_type": "code",
   "execution_count": null,
   "id": "1edfc730-ff39-4a8f-b09d-9e3cb1a60664",
   "metadata": {},
   "outputs": [],
   "source": [
    "transfromer = tr.Compose([\n",
    "    tr.ToPILImage(),\n",
    "    tr.ToTensor(),\n",
    "])\n",
    "\n",
    "tqdrator = tqdm.tqdm(masks_df.iterrows(), total=len(masks_df))\n",
    "for _, row in tqdrator:\n",
    "    image = cv2.imread(f\"{PICTURES_DIR}/{row['Root']}/{row['Corresponding']}\")[:, :, [2, 1, 0]]\n",
    "    mask = cv2.imread(f\"{MASKS_DIR}/{row['Root']}/{row['Name']}\")[:, :, [2, 1, 0]]\n",
    "\n",
    "    image = transfromer(image)\n",
    "    mask = transfromer(mask)\n",
    "\n",
    "    if mask.shape[1:] != image.shape[1:]:\n",
    "        print(f\"{PICTURES_DIR}/{row['Root']}/{row['Corresponding']}\", \"-- different shapes\")\n",
    "        mask = tr.Resize(image.shape[1:])(mask)\n",
    "\n",
    "    image = image * mask\n",
    "    image = rearrange(image, \"layer height width -> height width layer\")\n",
    "\n",
    "    if not os.path.exists(f\"{CHECK_DIR}/{row['Root']}\"):\n",
    "        os.makedirs(f\"{CHECK_DIR}/{row['Root']}\")\n",
    "    \n",
    "    cv2.imwrite(f\"{CHECK_DIR}/{row['Root']}/{row['Name']}\",\n",
    "                (image * 255).numpy().astype(int))\n",
    "\n",
    "    tqdrator.set_description(f\"{row['Root']}/{row['Name']}\")"
   ]
  },
  {
   "cell_type": "code",
   "execution_count": 15,
   "id": "faef8132-c2f8-44a2-827a-c64e025a4903",
   "metadata": {},
   "outputs": [],
   "source": [
    "problems = [\n",
    "    \"Здоровый язык/№19/0_2023-11-22 10-53-50 (6)_mask.jpg\", # extra\n",
    "    \"Здоровый язык/№20/0_2023-11-22 10-55-56 (4)_mask.jpg\", # extra\n",
    "    \"Здоровый язык/№21/0_2023-11-22 11-13-29 (4)_mask.jpg\", # extra\n",
    "    \"Здоровый язык/№22/0_2023-11-22 11-15-39 (4)_mask.jpg\", # extra\n",
    "    \"Здоровый язык/№33/0_2023-11-22_13-27-59_2_mask.jpg\", # extra\n",
    "    \"Здоровый язык/№34/0_2023-11-22_13-29-55_mask.jpg\", # not found\n",
    "    \"Здоровый язык/№39/0_2023-11-24_15-12-30_(4)_mask.jpg\", # with teeth\n",
    "    \"Рак языка/№18/5_2024-02-06 22-46-55 (3).jpg\", # no cancer\n",
    "    \"Рак языка/№18/5_2024-02-06 22-46-55 (4).jpg\", # no cancer\n",
    "    \"Рак языка/№18/5_2024-02-06 22-46-55 (5).jpg\", # no cancer\n",
    "    \"Рак языка/№18/5_2024-02-06_22-46-55_(3).jpg\", # no cancer\n",
    "    \"Рак языка/№18/5_2024-02-06_22-46-55_(4).jpg\", # no cancer\n",
    "    \"Рак языка/№18/5_2024-02-06_22-46-55_(5).jpg\", # no cancer\n",
    "    \"Рак языка/ГКОБ №1. ОГШ. Без сегментации/5_f2043ed9-055b-457d-94fb-217b87237e5f.jpg\", # extra\n",
    "    \"Рак языка/ГКОБ №1. ОГШ. Без сегментации/5_Рак языка 2-1_mask.png\", # strange\n",
    "    \"Рак языка/ГКОБ №1. ОГШ. Без сегментации/5_Рак языка, с переходом на дно полости рта._mask.jpg\", # strange\n",
    "    \"Рак языка/ГКОБ №1. ОГШ. Без сегментации/5_Рак языка, язвенная форма_mask.png\", # tight segmentation\n",
    "    \"Рак языка/ГКОБ №1. ОГШ. Без сегментации/5_Рак языка. Экзофитная форма_mask.jpg\", # no segmentation\n",
    "    \"Рак языка/ГКОБ №1. ОГШ. Без сегментации/5_рак_mask.png\", # no segmentation\n",
    "    \"Рак языка/ГКОБ №1. ОГШ. Без сегментации/5_рак1_mask.png\", # no segmentation\n",
    "]"
   ]
  },
  {
   "cell_type": "code",
   "execution_count": 16,
   "id": "c1001ca0-152f-4a2f-8524-62efc426c39e",
   "metadata": {},
   "outputs": [],
   "source": [
    "masks_df = masks_df.loc[~(masks_df[\"Root\"] + \"/\" + masks_df[\"Name\"]).isin(problems)]"
   ]
  },
  {
   "cell_type": "code",
   "execution_count": 17,
   "id": "fe5a129f-5bdc-47df-a064-dab4766b49f7",
   "metadata": {},
   "outputs": [],
   "source": [
    "masks_df.to_csv(f\"{MASKS_DIR}/correspondence.tsv\", sep=\"\\t\", index=None)"
   ]
  },
  {
   "cell_type": "markdown",
   "id": "5a312a64-1d0c-4c99-9ebf-4549a5f272ca",
   "metadata": {},
   "source": [
    "# Annotation"
   ]
  },
  {
   "cell_type": "code",
   "execution_count": 18,
   "id": "a858c3e8-a45a-49d3-88dc-5ca3418231db",
   "metadata": {},
   "outputs": [],
   "source": [
    "pictures_df[\"Class\"] = None\n",
    "pictures_df.loc[pictures_df[\"Root\"].str.startswith(\"Здоровый язык\"), \"Class\"] = 0\n",
    "\n",
    "pictures_df.loc[pictures_df[\"Root\"].str.startswith(\"Рак языка\") & ~pictures_df[\"Name\"].str.startswith(\"5\"), \"Class\"] = 0\n",
    "pictures_df.loc[pictures_df[\"Root\"].str.startswith(\"Рак языка\") & pictures_df[\"Name\"].str.startswith(\"5\"), \"Class\"] = 1\n",
    "\n",
    "# pictures_df.to_csv(f\"{PICTURES_DIR}/annotation.tsv\", sep=\"\\t\", index=None)"
   ]
  },
  {
   "cell_type": "code",
   "execution_count": 19,
   "id": "5f44672d-5949-4de5-805f-1424ac951760",
   "metadata": {},
   "outputs": [
    {
     "data": {
      "text/plain": [
       "Class\n",
       "0    343\n",
       "1    238\n",
       "Name: count, dtype: int64"
      ]
     },
     "execution_count": 19,
     "metadata": {},
     "output_type": "execute_result"
    }
   ],
   "source": [
    "pictures_df.Class.value_counts()"
   ]
  },
  {
   "cell_type": "code",
   "execution_count": 20,
   "id": "4c24b5af-3c69-474e-ad93-a51386d43c94",
   "metadata": {},
   "outputs": [],
   "source": [
    "centers_df = pd.read_csv(f\"{PICTURES_DIR}/tumor_coords.tsv\", sep=\"\\t\")\n",
    "\n",
    "centers_df = centers_df.rename(columns={\n",
    "    \"ПУТЬ\": \"Path\",\n",
    "    \"КООРДИНАТЫ\": \"Coords\"\n",
    "})\n",
    "\n",
    "centers_df[\"Path\"] = centers_df.Path.str.split(\"/\").str[1:].str.join(\"/\")\n",
    "\n",
    "centers_df = centers_df.set_index(\"Path\")"
   ]
  },
  {
   "cell_type": "code",
   "execution_count": 21,
   "id": "4061139c-21de-4708-a4fb-e482643a0175",
   "metadata": {},
   "outputs": [],
   "source": [
    "pictures_df[\"Path\"] = pictures_df[\"Root\"] + \"/\" + pictures_df[\"Name\"]\n",
    "pictures_df = pictures_df.set_index(\"Path\")"
   ]
  },
  {
   "cell_type": "code",
   "execution_count": 22,
   "id": "4d90a292-bf55-47d5-9337-c487d824179a",
   "metadata": {},
   "outputs": [
    {
     "name": "stdout",
     "output_type": "stream",
     "text": [
      "136 238\n",
      "23 113 125\n"
     ]
    }
   ],
   "source": [
    "tumor_index = pictures_df.loc[pictures_df.Class == 1].index\n",
    "\n",
    "print(len(centers_df.index), len(tumor_index))\n",
    "print(len(set(centers_df.index) - set(tumor_index)),\n",
    "      len(set(centers_df.index) & set(tumor_index)),\n",
    "      len(set(tumor_index) - set(centers_df.index)))"
   ]
  },
  {
   "cell_type": "code",
   "execution_count": 23,
   "id": "c43d2804-c4d4-473d-9c08-8951df911f6b",
   "metadata": {},
   "outputs": [],
   "source": [
    "pictures_df = pictures_df.join(centers_df, how=\"left\")"
   ]
  },
  {
   "cell_type": "code",
   "execution_count": 24,
   "id": "a591c5cc-ce8f-4af5-a854-18aa98b57f6c",
   "metadata": {},
   "outputs": [],
   "source": [
    "pictures_df.to_csv(f\"{PICTURES_DIR}/annotation.tsv\", sep=\"\\t\", index=None)"
   ]
  },
  {
   "cell_type": "markdown",
   "id": "aac2250f-4aaa-4831-85fe-a19934945427",
   "metadata": {},
   "source": [
    "# Check"
   ]
  },
  {
   "cell_type": "code",
   "execution_count": 25,
   "id": "64b5c297-4258-4848-b30c-0aa376ebae9d",
   "metadata": {},
   "outputs": [
    {
     "data": {
      "text/html": [
       "<div>\n",
       "<style scoped>\n",
       "    .dataframe tbody tr th:only-of-type {\n",
       "        vertical-align: middle;\n",
       "    }\n",
       "\n",
       "    .dataframe tbody tr th {\n",
       "        vertical-align: top;\n",
       "    }\n",
       "\n",
       "    .dataframe thead th {\n",
       "        text-align: right;\n",
       "    }\n",
       "</style>\n",
       "<table border=\"1\" class=\"dataframe\">\n",
       "  <thead>\n",
       "    <tr style=\"text-align: right;\">\n",
       "      <th></th>\n",
       "      <th>Root</th>\n",
       "      <th>Name</th>\n",
       "      <th>Class</th>\n",
       "      <th>Coords</th>\n",
       "    </tr>\n",
       "    <tr>\n",
       "      <th>Path</th>\n",
       "      <th></th>\n",
       "      <th></th>\n",
       "      <th></th>\n",
       "      <th></th>\n",
       "    </tr>\n",
       "  </thead>\n",
       "  <tbody>\n",
       "    <tr>\n",
       "      <th>Доброкачественные новообразования языка/2_фиброма 6 пациент.jpg</th>\n",
       "      <td>Доброкачественные новообразования языка</td>\n",
       "      <td>2_фиброма 6 пациент.jpg</td>\n",
       "      <td>None</td>\n",
       "      <td>NaN</td>\n",
       "    </tr>\n",
       "    <tr>\n",
       "      <th>Доброкачественные новообразования языка/2_Ретенционная киста корня языка.JPG</th>\n",
       "      <td>Доброкачественные новообразования языка</td>\n",
       "      <td>2_Ретенционная киста корня языка.JPG</td>\n",
       "      <td>None</td>\n",
       "      <td>NaN</td>\n",
       "    </tr>\n",
       "    <tr>\n",
       "      <th>Доброкачественные новообразования языка/2_лимфангиома 2 пациент 2 фото.jpg</th>\n",
       "      <td>Доброкачественные новообразования языка</td>\n",
       "      <td>2_лимфангиома 2 пациент 2 фото.jpg</td>\n",
       "      <td>None</td>\n",
       "      <td>NaN</td>\n",
       "    </tr>\n",
       "    <tr>\n",
       "      <th>Доброкачественные новообразования языка/2_пиогенная гранулема.JPG</th>\n",
       "      <td>Доброкачественные новообразования языка</td>\n",
       "      <td>2_пиогенная гранулема.JPG</td>\n",
       "      <td>None</td>\n",
       "      <td>NaN</td>\n",
       "    </tr>\n",
       "    <tr>\n",
       "      <th>Доброкачественные новообразования языка/2_венозная мальформация.JPG</th>\n",
       "      <td>Доброкачественные новообразования языка</td>\n",
       "      <td>2_венозная мальформация.JPG</td>\n",
       "      <td>None</td>\n",
       "      <td>NaN</td>\n",
       "    </tr>\n",
       "    <tr>\n",
       "      <th>...</th>\n",
       "      <td>...</td>\n",
       "      <td>...</td>\n",
       "      <td>...</td>\n",
       "      <td>...</td>\n",
       "    </tr>\n",
       "    <tr>\n",
       "      <th>Предраковые заболевания /Лейкоплакия языка /3_2023-11-08 11-19-09 (3).jpeg</th>\n",
       "      <td>Предраковые заболевания /Лейкоплакия языка</td>\n",
       "      <td>3_2023-11-08 11-19-09 (3).jpeg</td>\n",
       "      <td>None</td>\n",
       "      <td>NaN</td>\n",
       "    </tr>\n",
       "    <tr>\n",
       "      <th>Предраковые заболевания /Лейкоплакия языка /0_2023-11-08 11-19-09.jpeg</th>\n",
       "      <td>Предраковые заболевания /Лейкоплакия языка</td>\n",
       "      <td>0_2023-11-08 11-19-09.jpeg</td>\n",
       "      <td>None</td>\n",
       "      <td>NaN</td>\n",
       "    </tr>\n",
       "    <tr>\n",
       "      <th>Предраковые заболевания /Лейкоплакия языка /0_2023-11-08 11-19-09 (1).jpeg</th>\n",
       "      <td>Предраковые заболевания /Лейкоплакия языка</td>\n",
       "      <td>0_2023-11-08 11-19-09 (1).jpeg</td>\n",
       "      <td>None</td>\n",
       "      <td>NaN</td>\n",
       "    </tr>\n",
       "    <tr>\n",
       "      <th>Предраковые заболевания /Лейкоплакия языка /0_2023-11-08 11-19-09 (9).jpeg</th>\n",
       "      <td>Предраковые заболевания /Лейкоплакия языка</td>\n",
       "      <td>0_2023-11-08 11-19-09 (9).jpeg</td>\n",
       "      <td>None</td>\n",
       "      <td>NaN</td>\n",
       "    </tr>\n",
       "    <tr>\n",
       "      <th>Предраковые заболевания /Лейкоплакия языка /3_2023-11-08 11-19-09 (4).jpeg</th>\n",
       "      <td>Предраковые заболевания /Лейкоплакия языка</td>\n",
       "      <td>3_2023-11-08 11-19-09 (4).jpeg</td>\n",
       "      <td>None</td>\n",
       "      <td>NaN</td>\n",
       "    </tr>\n",
       "  </tbody>\n",
       "</table>\n",
       "<p>710 rows × 4 columns</p>\n",
       "</div>"
      ],
      "text/plain": [
       "                                                                                           Root  \\\n",
       "Path                                                                                              \n",
       "Доброкачественные новообразования языка/2_фибро...      Доброкачественные новообразования языка   \n",
       "Доброкачественные новообразования языка/2_Ретен...      Доброкачественные новообразования языка   \n",
       "Доброкачественные новообразования языка/2_лимфа...      Доброкачественные новообразования языка   \n",
       "Доброкачественные новообразования языка/2_пиоге...      Доброкачественные новообразования языка   \n",
       "Доброкачественные новообразования языка/2_веноз...      Доброкачественные новообразования языка   \n",
       "...                                                                                         ...   \n",
       "Предраковые заболевания /Лейкоплакия языка /3_2...  Предраковые заболевания /Лейкоплакия языка    \n",
       "Предраковые заболевания /Лейкоплакия языка /0_2...  Предраковые заболевания /Лейкоплакия языка    \n",
       "Предраковые заболевания /Лейкоплакия языка /0_2...  Предраковые заболевания /Лейкоплакия языка    \n",
       "Предраковые заболевания /Лейкоплакия языка /0_2...  Предраковые заболевания /Лейкоплакия языка    \n",
       "Предраковые заболевания /Лейкоплакия языка /3_2...  Предраковые заболевания /Лейкоплакия языка    \n",
       "\n",
       "                                                                                    Name  \\\n",
       "Path                                                                                       \n",
       "Доброкачественные новообразования языка/2_фибро...               2_фиброма 6 пациент.jpg   \n",
       "Доброкачественные новообразования языка/2_Ретен...  2_Ретенционная киста корня языка.JPG   \n",
       "Доброкачественные новообразования языка/2_лимфа...    2_лимфангиома 2 пациент 2 фото.jpg   \n",
       "Доброкачественные новообразования языка/2_пиоге...             2_пиогенная гранулема.JPG   \n",
       "Доброкачественные новообразования языка/2_веноз...           2_венозная мальформация.JPG   \n",
       "...                                                                                  ...   \n",
       "Предраковые заболевания /Лейкоплакия языка /3_2...        3_2023-11-08 11-19-09 (3).jpeg   \n",
       "Предраковые заболевания /Лейкоплакия языка /0_2...            0_2023-11-08 11-19-09.jpeg   \n",
       "Предраковые заболевания /Лейкоплакия языка /0_2...        0_2023-11-08 11-19-09 (1).jpeg   \n",
       "Предраковые заболевания /Лейкоплакия языка /0_2...        0_2023-11-08 11-19-09 (9).jpeg   \n",
       "Предраковые заболевания /Лейкоплакия языка /3_2...        3_2023-11-08 11-19-09 (4).jpeg   \n",
       "\n",
       "                                                   Class Coords  \n",
       "Path                                                             \n",
       "Доброкачественные новообразования языка/2_фибро...  None    NaN  \n",
       "Доброкачественные новообразования языка/2_Ретен...  None    NaN  \n",
       "Доброкачественные новообразования языка/2_лимфа...  None    NaN  \n",
       "Доброкачественные новообразования языка/2_пиоге...  None    NaN  \n",
       "Доброкачественные новообразования языка/2_веноз...  None    NaN  \n",
       "...                                                  ...    ...  \n",
       "Предраковые заболевания /Лейкоплакия языка /3_2...  None    NaN  \n",
       "Предраковые заболевания /Лейкоплакия языка /0_2...  None    NaN  \n",
       "Предраковые заболевания /Лейкоплакия языка /0_2...  None    NaN  \n",
       "Предраковые заболевания /Лейкоплакия языка /0_2...  None    NaN  \n",
       "Предраковые заболевания /Лейкоплакия языка /3_2...  None    NaN  \n",
       "\n",
       "[710 rows x 4 columns]"
      ]
     },
     "execution_count": 25,
     "metadata": {},
     "output_type": "execute_result"
    }
   ],
   "source": [
    "pictures_df"
   ]
  },
  {
   "cell_type": "code",
   "execution_count": 26,
   "id": "d8811e0e-757b-44a6-84a3-2af659ca3b8c",
   "metadata": {},
   "outputs": [],
   "source": [
    "masks_df[\"Path\"] = masks_df[\"Root\"] + \"/\" + masks_df[\"Corresponding\"]\n",
    "masks_df = masks_df.set_index(\"Path\")"
   ]
  },
  {
   "cell_type": "code",
   "execution_count": 27,
   "id": "4685b650-20ec-44a6-a71d-010b25de0b43",
   "metadata": {},
   "outputs": [],
   "source": [
    "check_df = pictures_df.join(masks_df.drop(columns=[\"Root\", \"Corresponding\"]).rename(columns={\"Name\": \"Mask\"}), how=\"left\")"
   ]
  },
  {
   "cell_type": "code",
   "execution_count": null,
   "id": "111ad3a1-0970-4bc4-856e-e3700ea6f352",
   "metadata": {},
   "outputs": [
    {
     "name": "stderr",
     "output_type": "stream",
     "text": [
      "Рак языка/№8/5_2023-12-13 09-39-21 (5).jpeg 1959, 897:  15%|▏| 86/560 [02:42<16:"
     ]
    }
   ],
   "source": [
    "transfromer = tr.Compose([\n",
    "    tr.ToPILImage(),\n",
    "    tr.ToTensor(),\n",
    "])\n",
    "\n",
    "query_df = check_df.loc[~check_df[\"Mask\"].isna()]\n",
    "tqdrator = tqdm.tqdm(query_df.iterrows(), total=len(query_df))\n",
    "\n",
    "for _, row in tqdrator:\n",
    "    image = cv2.imread(f\"{PICTURES_DIR}/{row['Root']}/{row['Name']}\")[:, :, [2, 1, 0]]\n",
    "    mask = cv2.imread(f\"{MASKS_DIR}/{row['Root']}/{row['Mask']}\")[:, :, [2, 1, 0]]\n",
    "\n",
    "    image = transfromer(image)\n",
    "    mask = transfromer(mask)\n",
    "\n",
    "    if mask.shape[1:] != image.shape[1:]:\n",
    "        print(f\"{PICTURES_DIR}/{row['Root']}/{row['Mask']}\", \"-- different shapes\")\n",
    "        mask = tr.Resize(image.shape[1:])(mask)\n",
    "\n",
    "    image = image * mask\n",
    "    image = rearrange(image, \"layer height width -> height width layer\")\n",
    "\n",
    "    fig, ax = plt.subplots(1, 1, figsize=(15, 15))\n",
    "    ax.imshow(image)\n",
    "\n",
    "    tqdrator.set_description(f\"{row['Root']}/{row['Name']} {row['Coords']}\") \n",
    "    \n",
    "    if row[\"Coords\"] is not None and row[\"Coords\"] == row[\"Coords\"]:\n",
    "        x, y = map(lambda x: int(x.lstrip().rstrip()), row[\"Coords\"].split(\",\"))\n",
    "        ax.add_patch(plt.Circle((x, y), 20, color=\"yellow\", alpha=0.7, fill=True))\n",
    "\n",
    "    if not os.path.exists(f\"{CHECK_DIR}/{row['Root']}\"):\n",
    "        os.makedirs(f\"{CHECK_DIR}/{row['Root']}\")\n",
    "    \n",
    "    fig.savefig(f\"{CHECK_DIR}/{row['Root']}/{row['Name']}\")"
   ]
  },
  {
   "cell_type": "code",
   "execution_count": null,
   "id": "fe4e6454-75ce-4692-b87e-f2a4b93630c9",
   "metadata": {},
   "outputs": [],
   "source": []
  }
 ],
 "metadata": {
  "kernelspec": {
   "display_name": "Python 3 (ipykernel)",
   "language": "python",
   "name": "python3"
  },
  "language_info": {
   "codemirror_mode": {
    "name": "ipython",
    "version": 3
   },
   "file_extension": ".py",
   "mimetype": "text/x-python",
   "name": "python",
   "nbconvert_exporter": "python",
   "pygments_lexer": "ipython3",
   "version": "3.10.12"
  }
 },
 "nbformat": 4,
 "nbformat_minor": 5
}
